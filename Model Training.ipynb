{
 "cells": [
  {
   "cell_type": "code",
   "execution_count": 1,
   "id": "8bb9368a",
   "metadata": {},
   "outputs": [],
   "source": [
    "import pandas as pd\n",
    "import numpy as np\n",
    "import sklearn \n",
    "from sklearn.impute import SimpleImputer\n",
    "from sklearn.preprocessing import StandardScaler, OneHotEncoder\n",
    "from sklearn.pipeline import Pipeline\n",
    "from sklearn.compose import ColumnTransformer\n",
    "from sklearn.linear_model import LinearRegression\n",
    "from sklearn.svm import SVR\n",
    "from sklearn.ensemble import RandomForestRegressor\n",
    "from feature_engine.datetime import DatetimeFeatures\n",
    "import joblib\n",
    "import matplotlib.pyplot as plt\n",
    "\n",
    "from sklearn.metrics import r2_score\n",
    "from sklearn.model_selection import learning_curve"
   ]
  },
  {
   "cell_type": "code",
   "execution_count": 2,
   "id": "5854cc14",
   "metadata": {},
   "outputs": [],
   "source": [
    "pd.set_option(\"display.max_columns\", None)"
   ]
  },
  {
   "cell_type": "code",
   "execution_count": 3,
   "id": "210bb06d",
   "metadata": {},
   "outputs": [],
   "source": [
    "sklearn.set_config(transform_output=\"default\")"
   ]
  },
  {
   "cell_type": "code",
   "execution_count": 4,
   "id": "a60c5e74",
   "metadata": {},
   "outputs": [],
   "source": [
    "train_df = pd.read_csv(\"data/train.csv\")\n",
    "val_df = pd.read_csv(\"data/val.csv\")\n",
    "test_df = pd.read_csv(\"data/test.csv\")"
   ]
  },
  {
   "cell_type": "code",
   "execution_count": 5,
   "id": "d54e3c9a",
   "metadata": {},
   "outputs": [
    {
     "data": {
      "text/html": [
       "<div>\n",
       "<style scoped>\n",
       "    .dataframe tbody tr th:only-of-type {\n",
       "        vertical-align: middle;\n",
       "    }\n",
       "\n",
       "    .dataframe tbody tr th {\n",
       "        vertical-align: top;\n",
       "    }\n",
       "\n",
       "    .dataframe thead th {\n",
       "        text-align: right;\n",
       "    }\n",
       "</style>\n",
       "<table border=\"1\" class=\"dataframe\">\n",
       "  <thead>\n",
       "    <tr style=\"text-align: right;\">\n",
       "      <th></th>\n",
       "      <th>airline</th>\n",
       "      <th>date_of_journey</th>\n",
       "      <th>source</th>\n",
       "      <th>destination</th>\n",
       "      <th>dep_time</th>\n",
       "      <th>arrival_time</th>\n",
       "      <th>duration</th>\n",
       "      <th>total_stops</th>\n",
       "      <th>additional_info</th>\n",
       "      <th>price</th>\n",
       "    </tr>\n",
       "  </thead>\n",
       "  <tbody>\n",
       "    <tr>\n",
       "      <th>0</th>\n",
       "      <td>Jet Airways</td>\n",
       "      <td>2019-06-21</td>\n",
       "      <td>Mumbai</td>\n",
       "      <td>Hyderabad</td>\n",
       "      <td>10:20:00</td>\n",
       "      <td>11:50:00</td>\n",
       "      <td>90</td>\n",
       "      <td>0.0</td>\n",
       "      <td>In-flight meal not included</td>\n",
       "      <td>4995</td>\n",
       "    </tr>\n",
       "    <tr>\n",
       "      <th>1</th>\n",
       "      <td>Air India</td>\n",
       "      <td>2019-05-18</td>\n",
       "      <td>Delhi</td>\n",
       "      <td>Cochin</td>\n",
       "      <td>09:00:00</td>\n",
       "      <td>07:40:00</td>\n",
       "      <td>1360</td>\n",
       "      <td>1.0</td>\n",
       "      <td>No Info</td>\n",
       "      <td>8372</td>\n",
       "    </tr>\n",
       "    <tr>\n",
       "      <th>2</th>\n",
       "      <td>Air India</td>\n",
       "      <td>2019-06-12</td>\n",
       "      <td>Kolkata</td>\n",
       "      <td>Banglore</td>\n",
       "      <td>09:10:00</td>\n",
       "      <td>11:05:00</td>\n",
       "      <td>1555</td>\n",
       "      <td>2.0</td>\n",
       "      <td>No Info</td>\n",
       "      <td>6117</td>\n",
       "    </tr>\n",
       "    <tr>\n",
       "      <th>3</th>\n",
       "      <td>Vistara</td>\n",
       "      <td>2019-04-01</td>\n",
       "      <td>Kolkata</td>\n",
       "      <td>Banglore</td>\n",
       "      <td>20:20:00</td>\n",
       "      <td>22:55:00</td>\n",
       "      <td>1595</td>\n",
       "      <td>1.0</td>\n",
       "      <td>No Info</td>\n",
       "      <td>7770</td>\n",
       "    </tr>\n",
       "    <tr>\n",
       "      <th>4</th>\n",
       "      <td>Vistara</td>\n",
       "      <td>2019-06-06</td>\n",
       "      <td>Kolkata</td>\n",
       "      <td>Banglore</td>\n",
       "      <td>17:00:00</td>\n",
       "      <td>10:45:00</td>\n",
       "      <td>1065</td>\n",
       "      <td>1.0</td>\n",
       "      <td>No Info</td>\n",
       "      <td>9187</td>\n",
       "    </tr>\n",
       "    <tr>\n",
       "      <th>...</th>\n",
       "      <td>...</td>\n",
       "      <td>...</td>\n",
       "      <td>...</td>\n",
       "      <td>...</td>\n",
       "      <td>...</td>\n",
       "      <td>...</td>\n",
       "      <td>...</td>\n",
       "      <td>...</td>\n",
       "      <td>...</td>\n",
       "      <td>...</td>\n",
       "    </tr>\n",
       "    <tr>\n",
       "      <th>635</th>\n",
       "      <td>Air Asia</td>\n",
       "      <td>2019-04-12</td>\n",
       "      <td>Banglore</td>\n",
       "      <td>Delhi</td>\n",
       "      <td>04:55:00</td>\n",
       "      <td>07:45:00</td>\n",
       "      <td>170</td>\n",
       "      <td>0.0</td>\n",
       "      <td>No Info</td>\n",
       "      <td>4282</td>\n",
       "    </tr>\n",
       "    <tr>\n",
       "      <th>636</th>\n",
       "      <td>Jet Airways</td>\n",
       "      <td>2019-05-09</td>\n",
       "      <td>Kolkata</td>\n",
       "      <td>Banglore</td>\n",
       "      <td>09:35:00</td>\n",
       "      <td>21:05:00</td>\n",
       "      <td>690</td>\n",
       "      <td>1.0</td>\n",
       "      <td>No Info</td>\n",
       "      <td>13067</td>\n",
       "    </tr>\n",
       "    <tr>\n",
       "      <th>637</th>\n",
       "      <td>Indigo</td>\n",
       "      <td>2019-05-15</td>\n",
       "      <td>Banglore</td>\n",
       "      <td>Delhi</td>\n",
       "      <td>06:05:00</td>\n",
       "      <td>08:50:00</td>\n",
       "      <td>165</td>\n",
       "      <td>0.0</td>\n",
       "      <td>No Info</td>\n",
       "      <td>4423</td>\n",
       "    </tr>\n",
       "    <tr>\n",
       "      <th>638</th>\n",
       "      <td>Multiple Carriers</td>\n",
       "      <td>2019-05-15</td>\n",
       "      <td>Delhi</td>\n",
       "      <td>Cochin</td>\n",
       "      <td>08:45:00</td>\n",
       "      <td>21:00:00</td>\n",
       "      <td>735</td>\n",
       "      <td>1.0</td>\n",
       "      <td>No Info</td>\n",
       "      <td>7670</td>\n",
       "    </tr>\n",
       "    <tr>\n",
       "      <th>639</th>\n",
       "      <td>Jet Airways</td>\n",
       "      <td>2019-05-21</td>\n",
       "      <td>Kolkata</td>\n",
       "      <td>Banglore</td>\n",
       "      <td>20:00:00</td>\n",
       "      <td>12:00:00</td>\n",
       "      <td>960</td>\n",
       "      <td>1.0</td>\n",
       "      <td>In-flight meal not included</td>\n",
       "      <td>10844</td>\n",
       "    </tr>\n",
       "  </tbody>\n",
       "</table>\n",
       "<p>640 rows × 10 columns</p>\n",
       "</div>"
      ],
      "text/plain": [
       "               airline date_of_journey    source destination  dep_time  \\\n",
       "0          Jet Airways      2019-06-21    Mumbai   Hyderabad  10:20:00   \n",
       "1            Air India      2019-05-18     Delhi      Cochin  09:00:00   \n",
       "2            Air India      2019-06-12   Kolkata    Banglore  09:10:00   \n",
       "3              Vistara      2019-04-01   Kolkata    Banglore  20:20:00   \n",
       "4              Vistara      2019-06-06   Kolkata    Banglore  17:00:00   \n",
       "..                 ...             ...       ...         ...       ...   \n",
       "635           Air Asia      2019-04-12  Banglore       Delhi  04:55:00   \n",
       "636        Jet Airways      2019-05-09   Kolkata    Banglore  09:35:00   \n",
       "637             Indigo      2019-05-15  Banglore       Delhi  06:05:00   \n",
       "638  Multiple Carriers      2019-05-15     Delhi      Cochin  08:45:00   \n",
       "639        Jet Airways      2019-05-21   Kolkata    Banglore  20:00:00   \n",
       "\n",
       "    arrival_time  duration  total_stops              additional_info  price  \n",
       "0       11:50:00        90          0.0  In-flight meal not included   4995  \n",
       "1       07:40:00      1360          1.0                      No Info   8372  \n",
       "2       11:05:00      1555          2.0                      No Info   6117  \n",
       "3       22:55:00      1595          1.0                      No Info   7770  \n",
       "4       10:45:00      1065          1.0                      No Info   9187  \n",
       "..           ...       ...          ...                          ...    ...  \n",
       "635     07:45:00       170          0.0                      No Info   4282  \n",
       "636     21:05:00       690          1.0                      No Info  13067  \n",
       "637     08:50:00       165          0.0                      No Info   4423  \n",
       "638     21:00:00       735          1.0                      No Info   7670  \n",
       "639     12:00:00       960          1.0  In-flight meal not included  10844  \n",
       "\n",
       "[640 rows x 10 columns]"
      ]
     },
     "execution_count": 5,
     "metadata": {},
     "output_type": "execute_result"
    }
   ],
   "source": [
    "train_df"
   ]
  },
  {
   "cell_type": "code",
   "execution_count": 6,
   "id": "7e77e989",
   "metadata": {},
   "outputs": [],
   "source": [
    "def split_data(data):\n",
    "    X = data.drop(columns=\"price\")\n",
    "    y = data.price.copy()\n",
    "    return (X, y)"
   ]
  },
  {
   "cell_type": "code",
   "execution_count": 7,
   "id": "7015ffc9",
   "metadata": {},
   "outputs": [],
   "source": [
    "X_train, y_train = split_data(train_df)"
   ]
  },
  {
   "cell_type": "code",
   "execution_count": 8,
   "id": "6fd0743d",
   "metadata": {},
   "outputs": [
    {
     "data": {
      "text/html": [
       "<div>\n",
       "<style scoped>\n",
       "    .dataframe tbody tr th:only-of-type {\n",
       "        vertical-align: middle;\n",
       "    }\n",
       "\n",
       "    .dataframe tbody tr th {\n",
       "        vertical-align: top;\n",
       "    }\n",
       "\n",
       "    .dataframe thead th {\n",
       "        text-align: right;\n",
       "    }\n",
       "</style>\n",
       "<table border=\"1\" class=\"dataframe\">\n",
       "  <thead>\n",
       "    <tr style=\"text-align: right;\">\n",
       "      <th></th>\n",
       "      <th>airline</th>\n",
       "      <th>date_of_journey</th>\n",
       "      <th>source</th>\n",
       "      <th>destination</th>\n",
       "      <th>dep_time</th>\n",
       "      <th>arrival_time</th>\n",
       "      <th>duration</th>\n",
       "      <th>total_stops</th>\n",
       "      <th>additional_info</th>\n",
       "    </tr>\n",
       "  </thead>\n",
       "  <tbody>\n",
       "    <tr>\n",
       "      <th>0</th>\n",
       "      <td>Jet Airways</td>\n",
       "      <td>2019-06-21</td>\n",
       "      <td>Mumbai</td>\n",
       "      <td>Hyderabad</td>\n",
       "      <td>10:20:00</td>\n",
       "      <td>11:50:00</td>\n",
       "      <td>90</td>\n",
       "      <td>0.0</td>\n",
       "      <td>In-flight meal not included</td>\n",
       "    </tr>\n",
       "    <tr>\n",
       "      <th>1</th>\n",
       "      <td>Air India</td>\n",
       "      <td>2019-05-18</td>\n",
       "      <td>Delhi</td>\n",
       "      <td>Cochin</td>\n",
       "      <td>09:00:00</td>\n",
       "      <td>07:40:00</td>\n",
       "      <td>1360</td>\n",
       "      <td>1.0</td>\n",
       "      <td>No Info</td>\n",
       "    </tr>\n",
       "    <tr>\n",
       "      <th>2</th>\n",
       "      <td>Air India</td>\n",
       "      <td>2019-06-12</td>\n",
       "      <td>Kolkata</td>\n",
       "      <td>Banglore</td>\n",
       "      <td>09:10:00</td>\n",
       "      <td>11:05:00</td>\n",
       "      <td>1555</td>\n",
       "      <td>2.0</td>\n",
       "      <td>No Info</td>\n",
       "    </tr>\n",
       "    <tr>\n",
       "      <th>3</th>\n",
       "      <td>Vistara</td>\n",
       "      <td>2019-04-01</td>\n",
       "      <td>Kolkata</td>\n",
       "      <td>Banglore</td>\n",
       "      <td>20:20:00</td>\n",
       "      <td>22:55:00</td>\n",
       "      <td>1595</td>\n",
       "      <td>1.0</td>\n",
       "      <td>No Info</td>\n",
       "    </tr>\n",
       "    <tr>\n",
       "      <th>4</th>\n",
       "      <td>Vistara</td>\n",
       "      <td>2019-06-06</td>\n",
       "      <td>Kolkata</td>\n",
       "      <td>Banglore</td>\n",
       "      <td>17:00:00</td>\n",
       "      <td>10:45:00</td>\n",
       "      <td>1065</td>\n",
       "      <td>1.0</td>\n",
       "      <td>No Info</td>\n",
       "    </tr>\n",
       "    <tr>\n",
       "      <th>...</th>\n",
       "      <td>...</td>\n",
       "      <td>...</td>\n",
       "      <td>...</td>\n",
       "      <td>...</td>\n",
       "      <td>...</td>\n",
       "      <td>...</td>\n",
       "      <td>...</td>\n",
       "      <td>...</td>\n",
       "      <td>...</td>\n",
       "    </tr>\n",
       "    <tr>\n",
       "      <th>635</th>\n",
       "      <td>Air Asia</td>\n",
       "      <td>2019-04-12</td>\n",
       "      <td>Banglore</td>\n",
       "      <td>Delhi</td>\n",
       "      <td>04:55:00</td>\n",
       "      <td>07:45:00</td>\n",
       "      <td>170</td>\n",
       "      <td>0.0</td>\n",
       "      <td>No Info</td>\n",
       "    </tr>\n",
       "    <tr>\n",
       "      <th>636</th>\n",
       "      <td>Jet Airways</td>\n",
       "      <td>2019-05-09</td>\n",
       "      <td>Kolkata</td>\n",
       "      <td>Banglore</td>\n",
       "      <td>09:35:00</td>\n",
       "      <td>21:05:00</td>\n",
       "      <td>690</td>\n",
       "      <td>1.0</td>\n",
       "      <td>No Info</td>\n",
       "    </tr>\n",
       "    <tr>\n",
       "      <th>637</th>\n",
       "      <td>Indigo</td>\n",
       "      <td>2019-05-15</td>\n",
       "      <td>Banglore</td>\n",
       "      <td>Delhi</td>\n",
       "      <td>06:05:00</td>\n",
       "      <td>08:50:00</td>\n",
       "      <td>165</td>\n",
       "      <td>0.0</td>\n",
       "      <td>No Info</td>\n",
       "    </tr>\n",
       "    <tr>\n",
       "      <th>638</th>\n",
       "      <td>Multiple Carriers</td>\n",
       "      <td>2019-05-15</td>\n",
       "      <td>Delhi</td>\n",
       "      <td>Cochin</td>\n",
       "      <td>08:45:00</td>\n",
       "      <td>21:00:00</td>\n",
       "      <td>735</td>\n",
       "      <td>1.0</td>\n",
       "      <td>No Info</td>\n",
       "    </tr>\n",
       "    <tr>\n",
       "      <th>639</th>\n",
       "      <td>Jet Airways</td>\n",
       "      <td>2019-05-21</td>\n",
       "      <td>Kolkata</td>\n",
       "      <td>Banglore</td>\n",
       "      <td>20:00:00</td>\n",
       "      <td>12:00:00</td>\n",
       "      <td>960</td>\n",
       "      <td>1.0</td>\n",
       "      <td>In-flight meal not included</td>\n",
       "    </tr>\n",
       "  </tbody>\n",
       "</table>\n",
       "<p>640 rows × 9 columns</p>\n",
       "</div>"
      ],
      "text/plain": [
       "               airline date_of_journey    source destination  dep_time  \\\n",
       "0          Jet Airways      2019-06-21    Mumbai   Hyderabad  10:20:00   \n",
       "1            Air India      2019-05-18     Delhi      Cochin  09:00:00   \n",
       "2            Air India      2019-06-12   Kolkata    Banglore  09:10:00   \n",
       "3              Vistara      2019-04-01   Kolkata    Banglore  20:20:00   \n",
       "4              Vistara      2019-06-06   Kolkata    Banglore  17:00:00   \n",
       "..                 ...             ...       ...         ...       ...   \n",
       "635           Air Asia      2019-04-12  Banglore       Delhi  04:55:00   \n",
       "636        Jet Airways      2019-05-09   Kolkata    Banglore  09:35:00   \n",
       "637             Indigo      2019-05-15  Banglore       Delhi  06:05:00   \n",
       "638  Multiple Carriers      2019-05-15     Delhi      Cochin  08:45:00   \n",
       "639        Jet Airways      2019-05-21   Kolkata    Banglore  20:00:00   \n",
       "\n",
       "    arrival_time  duration  total_stops              additional_info  \n",
       "0       11:50:00        90          0.0  In-flight meal not included  \n",
       "1       07:40:00      1360          1.0                      No Info  \n",
       "2       11:05:00      1555          2.0                      No Info  \n",
       "3       22:55:00      1595          1.0                      No Info  \n",
       "4       10:45:00      1065          1.0                      No Info  \n",
       "..           ...       ...          ...                          ...  \n",
       "635     07:45:00       170          0.0                      No Info  \n",
       "636     21:05:00       690          1.0                      No Info  \n",
       "637     08:50:00       165          0.0                      No Info  \n",
       "638     21:00:00       735          1.0                      No Info  \n",
       "639     12:00:00       960          1.0  In-flight meal not included  \n",
       "\n",
       "[640 rows x 9 columns]"
      ]
     },
     "execution_count": 8,
     "metadata": {},
     "output_type": "execute_result"
    }
   ],
   "source": [
    "X_train"
   ]
  },
  {
   "cell_type": "code",
   "execution_count": 9,
   "id": "d4924053",
   "metadata": {},
   "outputs": [
    {
     "data": {
      "text/plain": [
       "0       4995\n",
       "1       8372\n",
       "2       6117\n",
       "3       7770\n",
       "4       9187\n",
       "       ...  \n",
       "635     4282\n",
       "636    13067\n",
       "637     4423\n",
       "638     7670\n",
       "639    10844\n",
       "Name: price, Length: 640, dtype: int64"
      ]
     },
     "execution_count": 9,
     "metadata": {},
     "output_type": "execute_result"
    }
   ],
   "source": [
    "y_train"
   ]
  },
  {
   "cell_type": "code",
   "execution_count": 10,
   "id": "2b00f25a",
   "metadata": {},
   "outputs": [],
   "source": [
    "X_val, y_val = split_data(val_df)\n",
    "X_test, y_test = split_data(test_df)"
   ]
  },
  {
   "cell_type": "code",
   "execution_count": 11,
   "id": "316dbe23",
   "metadata": {},
   "outputs": [
    {
     "name": "stdout",
     "output_type": "stream",
     "text": [
      "<class 'pandas.core.frame.DataFrame'>\n",
      "RangeIndex: 640 entries, 0 to 639\n",
      "Data columns (total 9 columns):\n",
      " #   Column           Non-Null Count  Dtype  \n",
      "---  ------           --------------  -----  \n",
      " 0   airline          640 non-null    object \n",
      " 1   date_of_journey  640 non-null    object \n",
      " 2   source           640 non-null    object \n",
      " 3   destination      640 non-null    object \n",
      " 4   dep_time         640 non-null    object \n",
      " 5   arrival_time     640 non-null    object \n",
      " 6   duration         640 non-null    int64  \n",
      " 7   total_stops      640 non-null    float64\n",
      " 8   additional_info  640 non-null    object \n",
      "dtypes: float64(1), int64(1), object(7)\n",
      "memory usage: 45.1+ KB\n"
     ]
    }
   ],
   "source": [
    "X_train.info()"
   ]
  },
  {
   "cell_type": "code",
   "execution_count": 12,
   "id": "d38ae123",
   "metadata": {},
   "outputs": [],
   "source": [
    "dt_cols = [\"date_of_journey\", \"dep_time\", \"arrival_time\"]\n",
    "num_cols = [\"duration\", \"total_stops\"]\n",
    "cat_cols = [col for col in X_train.columns if(col not in dt_cols) and (col not in num_cols)]"
   ]
  },
  {
   "cell_type": "code",
   "execution_count": 13,
   "id": "e9ac315f",
   "metadata": {},
   "outputs": [
    {
     "data": {
      "text/plain": [
       "['airline', 'source', 'destination', 'additional_info']"
      ]
     },
     "execution_count": 13,
     "metadata": {},
     "output_type": "execute_result"
    }
   ],
   "source": [
    "cat_cols"
   ]
  },
  {
   "cell_type": "code",
   "execution_count": 14,
   "id": "3e71c1d9",
   "metadata": {},
   "outputs": [],
   "source": [
    "num_pipe = Pipeline(steps=[\n",
    "    (\"imputer\", SimpleImputer(strategy=\"median\")),\n",
    "    (\"scaler\", StandardScaler())\n",
    "])\n",
    "cat_pipe = Pipeline(steps=[\n",
    "    (\"imputer\", SimpleImputer(strategy=\"most_frequent\")),\n",
    "    (\"encoder\", OneHotEncoder(sparse_output=False, handle_unknown=\"ignore\"))\n",
    "])\n",
    "\n",
    "doj_transformer = Pipeline(steps=[\n",
    "    (\"imputer\", SimpleImputer(strategy=\"most_frequent\")),\n",
    "    (\"extractor\", DatetimeFeatures(features_to_extract=['month', 'week', 'day_of_week', 'day_of_month'], format=\"mixed\")),\n",
    "    (\"scaler\", StandardScaler())\n",
    "])\n",
    "\n",
    "time_transformer = Pipeline(steps=[\n",
    "    (\"imputer\", SimpleImputer(strategy=\"most_frequent\")),\n",
    "    (\"extractor\", DatetimeFeatures(features_to_extract=['hour', 'minute'], format=\"mixed\")),\n",
    "    (\"scaler\", StandardScaler())\n",
    "])"
   ]
  },
  {
   "cell_type": "code",
   "execution_count": 15,
   "id": "6c784836",
   "metadata": {},
   "outputs": [],
   "source": [
    "preprocessor = ColumnTransformer(transformers=[\n",
    "    (\"num\", num_pipe, num_cols),\n",
    "    (\"cat\", cat_pipe, cat_cols),\n",
    "    (\"doj\", doj_transformer, ['date_of_journey']),\n",
    "    (\"time\", time_transformer, ['dep_time', 'arrival_time'])\n",
    "])"
   ]
  },
  {
   "cell_type": "code",
   "execution_count": 16,
   "id": "c5bbf57a",
   "metadata": {},
   "outputs": [
    {
     "data": {
      "text/plain": [
       "array([[-1.09591823, -1.21213152,  0.        , ..., -0.14005709,\n",
       "        -0.34523131,  1.49385907],\n",
       "       [ 1.43569944,  0.31797533,  0.        , ..., -1.22986299,\n",
       "        -0.93560684,  0.89104078],\n",
       "       [ 1.82441239,  1.84808218,  0.        , ..., -0.68496004,\n",
       "        -0.34523131, -1.21882323],\n",
       "       ...,\n",
       "       [-0.94641325, -1.21213152,  0.        , ..., -0.95741152,\n",
       "        -0.78801296,  1.49385907],\n",
       "       [ 0.18982461,  0.31797533,  0.        , ...,  1.22220029,\n",
       "         1.1307075 , -1.52023237],\n",
       "       [ 0.63833955,  0.31797533,  0.        , ..., -1.22986299,\n",
       "        -0.19763743, -1.52023237]])"
      ]
     },
     "execution_count": 16,
     "metadata": {},
     "output_type": "execute_result"
    }
   ],
   "source": [
    "preprocessor.fit_transform(X_train)"
   ]
  },
  {
   "cell_type": "code",
   "execution_count": 17,
   "id": "4ae809c9",
   "metadata": {},
   "outputs": [],
   "source": [
    "algorithms = {\n",
    "    \"Linear Regression\": LinearRegression(),\n",
    "    \"Support Vector Machine\": SVR(),\n",
    "    \"Random Forest\": RandomForestRegressor(n_estimators=10)\n",
    "}"
   ]
  },
  {
   "cell_type": "code",
   "execution_count": 18,
   "id": "ee2abbe9",
   "metadata": {},
   "outputs": [
    {
     "data": {
      "text/plain": [
       "((800, 9), (800,))"
      ]
     },
     "execution_count": 18,
     "metadata": {},
     "output_type": "execute_result"
    }
   ],
   "source": [
    "data = pd.concat([train_df, val_df], axis=0)\n",
    "X_data, y_data = split_data(data)\n",
    "X_data.shape, y_data.shape"
   ]
  },
  {
   "cell_type": "code",
   "execution_count": 19,
   "id": "3f592157",
   "metadata": {},
   "outputs": [],
   "source": [
    "def plot_curves(sizes, mean_scores, std_scores, label, ax):\n",
    "    ax.plot(\n",
    "        sizes, \n",
    "        mean_scores,\n",
    "        marker='o',\n",
    "        label=label\n",
    "    )\n",
    "    ax.fill_between(\n",
    "        x=sizes, \n",
    "        y1=mean_scores - std_scores,\n",
    "        y2=mean_scores + std_scores,\n",
    "        alpha=0.5\n",
    "    )\n",
    "    "
   ]
  },
  {
   "cell_type": "code",
   "execution_count": 20,
   "id": "d3c5fe5c",
   "metadata": {},
   "outputs": [],
   "source": [
    "def plot_learning_curves(name, algorithm, figsize=(12, 4)):\n",
    "    model = Pipeline(steps=[\n",
    "        (\"pre\", preprocessor),\n",
    "        (\"alg\", algorithm)\n",
    "    ])\n",
    "    train_sizes, train_scores, test_scores = learning_curve(\n",
    "        estimator = model,\n",
    "        X = X_data,\n",
    "        y = y_data,\n",
    "        cv = 5,\n",
    "        scoring = \"r2\",\n",
    "        n_jobs = -1,\n",
    "        random_state = 42\n",
    "    )\n",
    "    mean_train_scores = np.mean(train_scores, axis = 1)\n",
    "    std_train_scores = np.std(train_scores, axis=1)\n",
    "    \n",
    "    train_score = f\"{mean_train_scores[-1]:2f} +/- {std_train_scores[-1]:2f}\"\n",
    "    \n",
    "    mean_test_scores = np.mean(test_scores, axis = 1)\n",
    "    std_test_scores = np.std(test_scores, axis=1)\n",
    "    \n",
    "    test_score = f\"{mean_test_scores[-1]:2f} +/- {std_test_scores[-1]:2f}\"\n",
    "    \n",
    "    fig, ax = plt.subplots(figsize=figsize)\n",
    "    \n",
    "    plot_curves(\n",
    "        train_sizes,\n",
    "        mean_train_scores,\n",
    "        std_train_scores,\n",
    "        f\"Train ({train_score})\",\n",
    "        ax\n",
    "    )\n",
    "    \n",
    "    plot_curves(\n",
    "        train_sizes,\n",
    "        mean_test_scores,\n",
    "        std_test_scores,\n",
    "        f\"Test ({test_score})\",\n",
    "        ax\n",
    "    )\n",
    "    \n",
    "    ax.set(xlabel=\"Training Set Size\", ylabel=\"R-square\", title=name)\n",
    "    ax.legend(loc=\"lower right\")\n",
    "    plt.show()"
   ]
  },
  {
   "cell_type": "code",
   "execution_count": null,
   "id": "58abe71c",
   "metadata": {},
   "outputs": [
    {
     "data": {
      "image/png": "[encoded data removed]",
      "text/plain": [
       "<Figure size 1200x400 with 1 Axes>"
      ]
     },
     "metadata": {},
     "output_type": "display_data"
    }
   ],
   "source": [
    "for name, alg in algorithms.items():\n",
    "    plot_learning_curves(name, alg)"
   ]
  },
  {
   "cell_type": "code",
   "execution_count": null,
   "id": "443b6590",
   "metadata": {},
   "outputs": [],
   "source": [
    "model = Pipeline(steps=[\n",
    "    (\"pre\", preprocessor),\n",
    "    (\"rf\", RandomForestRegressor(n_estimators=10))\n",
    "])"
   ]
  },
  {
   "cell_type": "code",
   "execution_count": null,
   "id": "97fcd5ce",
   "metadata": {},
   "outputs": [],
   "source": [
    "model.fit(X_data, y_data)"
   ]
  },
  {
   "cell_type": "code",
   "execution_count": null,
   "id": "8b46d1d9",
   "metadata": {},
   "outputs": [],
   "source": [
    "def evaluate_model(X, y):\n",
    "    y_pred = model.predict(X)\n",
    "    return r2_score(y, y_pred)"
   ]
  },
  {
   "cell_type": "code",
   "execution_count": null,
   "id": "a74553d2",
   "metadata": {},
   "outputs": [],
   "source": [
    "print(f\"R2 score on training data is = {evaluate_model(X_data, y_data)}\")"
   ]
  },
  {
   "cell_type": "code",
   "execution_count": null,
   "id": "5b81119d",
   "metadata": {},
   "outputs": [],
   "source": [
    "print(f\"R2 score on Test data is = {evaluate_model(X_test, y_test)}\")"
   ]
  },
  {
   "cell_type": "code",
   "execution_count": null,
   "id": "13bb99c8",
   "metadata": {},
   "outputs": [],
   "source": [
    "joblib.dump(model, 'model.joblib')"
   ]
  },
  {
   "cell_type": "code",
   "execution_count": null,
   "id": "17452035",
   "metadata": {},
   "outputs": [],
   "source": [
    "saved_model = joblib.load(\"model.joblib\")\n",
    "saved_model"
   ]
  },
  {
   "cell_type": "code",
   "execution_count": null,
   "id": "d2638843",
   "metadata": {},
   "outputs": [],
   "source": [
    "y_pred = saved_model.predict(X_test)\n",
    "r2_score(y_test, y_pred)"
   ]
  },
  {
   "cell_type": "code",
   "execution_count": null,
   "id": "6d29e401",
   "metadata": {},
   "outputs": [],
   "source": []
  }
 ],
 "metadata": {
  "kernelspec": {
   "display_name": "Python 3 (ipykernel)",
   "language": "python",
   "name": "python3"
  },
  "language_info": {
   "codemirror_mode": {
    "name": "ipython",
    "version": 3
   },
   "file_extension": ".py",
   "mimetype": "text/x-python",
   "name": "python",
   "nbconvert_exporter": "python",
   "pygments_lexer": "ipython3",
   "version": "3.10.9"
  }
 },
 "nbformat": 4,
 "nbformat_minor": 5
}
